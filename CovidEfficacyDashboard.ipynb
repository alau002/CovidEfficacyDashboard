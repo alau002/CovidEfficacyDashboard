{
 "cells": [
  {
   "cell_type": "code",
   "execution_count": 1,
   "id": "06b3de69",
   "metadata": {},
   "outputs": [],
   "source": [
    "#import libaries\n",
    "import pandas as pd\n",
    "import numpy as np\n",
    "import geopandas\n",
    "import pycountry\n",
    "from geopy import Nominatim\n",
    "import matplotlib.pyplot as plt\n",
    "import folium\n",
    "from ipywidgets import interact\n",
    "from ipywidgets import widgets\n",
    "import plotly.express as px"
   ]
  },
  {
   "cell_type": "code",
   "execution_count": 2,
   "id": "624d3fa8",
   "metadata": {},
   "outputs": [],
   "source": [
    "#import vaccine data into dataframe\n",
    "df = pd.read_csv('VaccineData.csv')"
   ]
  },
  {
   "cell_type": "code",
   "execution_count": 3,
   "id": "efa4f44b",
   "metadata": {},
   "outputs": [
    {
     "data": {
      "text/html": [
       "<div>\n",
       "<style scoped>\n",
       "    .dataframe tbody tr th:only-of-type {\n",
       "        vertical-align: middle;\n",
       "    }\n",
       "\n",
       "    .dataframe tbody tr th {\n",
       "        vertical-align: top;\n",
       "    }\n",
       "\n",
       "    .dataframe thead th {\n",
       "        text-align: right;\n",
       "    }\n",
       "</style>\n",
       "<table border=\"1\" class=\"dataframe\">\n",
       "  <thead>\n",
       "    <tr style=\"text-align: right;\">\n",
       "      <th></th>\n",
       "      <th>Country</th>\n",
       "      <th>Date</th>\n",
       "      <th>Vaccine_Manufacturer</th>\n",
       "      <th>Total_Vaccinations</th>\n",
       "      <th>Severe Disease Ancestral</th>\n",
       "      <th>Infection Ancestral</th>\n",
       "      <th>Severe Disease Alpha</th>\n",
       "      <th>Infection Alpha</th>\n",
       "      <th>Severe Disease Beta</th>\n",
       "      <th>Infection Beta</th>\n",
       "      <th>Severe Disease Gamma</th>\n",
       "      <th>Infection Gamma</th>\n",
       "      <th>Severe Disease Delta</th>\n",
       "      <th>Infection Delta</th>\n",
       "      <th>Severe Disease Omicron</th>\n",
       "      <th>Infection Omicron</th>\n",
       "    </tr>\n",
       "  </thead>\n",
       "  <tbody>\n",
       "    <tr>\n",
       "      <th>0</th>\n",
       "      <td>Argentina</td>\n",
       "      <td>12/29/20</td>\n",
       "      <td>Oxford/AstraZeneca</td>\n",
       "      <td>1</td>\n",
       "      <td>1</td>\n",
       "      <td>1</td>\n",
       "      <td>1</td>\n",
       "      <td>1</td>\n",
       "      <td>1</td>\n",
       "      <td>1</td>\n",
       "      <td>1</td>\n",
       "      <td>1</td>\n",
       "      <td>1</td>\n",
       "      <td>1</td>\n",
       "      <td>1</td>\n",
       "      <td>0</td>\n",
       "    </tr>\n",
       "    <tr>\n",
       "      <th>1</th>\n",
       "      <td>Argentina</td>\n",
       "      <td>12/29/20</td>\n",
       "      <td>Sinopharm/Beijing</td>\n",
       "      <td>1</td>\n",
       "      <td>1</td>\n",
       "      <td>1</td>\n",
       "      <td>1</td>\n",
       "      <td>1</td>\n",
       "      <td>1</td>\n",
       "      <td>1</td>\n",
       "      <td>1</td>\n",
       "      <td>1</td>\n",
       "      <td>1</td>\n",
       "      <td>1</td>\n",
       "      <td>1</td>\n",
       "      <td>0</td>\n",
       "    </tr>\n",
       "    <tr>\n",
       "      <th>2</th>\n",
       "      <td>Argentina</td>\n",
       "      <td>12/29/20</td>\n",
       "      <td>Sputnik V</td>\n",
       "      <td>20488</td>\n",
       "      <td>18849</td>\n",
       "      <td>17620</td>\n",
       "      <td>18849</td>\n",
       "      <td>17620</td>\n",
       "      <td>18234</td>\n",
       "      <td>17415</td>\n",
       "      <td>18234</td>\n",
       "      <td>17415</td>\n",
       "      <td>18234</td>\n",
       "      <td>17415</td>\n",
       "      <td>11268</td>\n",
       "      <td>7376</td>\n",
       "    </tr>\n",
       "    <tr>\n",
       "      <th>3</th>\n",
       "      <td>Argentina</td>\n",
       "      <td>12/30/20</td>\n",
       "      <td>Sputnik V</td>\n",
       "      <td>40590</td>\n",
       "      <td>37343</td>\n",
       "      <td>34907</td>\n",
       "      <td>37343</td>\n",
       "      <td>34907</td>\n",
       "      <td>36125</td>\n",
       "      <td>34502</td>\n",
       "      <td>36125</td>\n",
       "      <td>34502</td>\n",
       "      <td>36125</td>\n",
       "      <td>34502</td>\n",
       "      <td>22325</td>\n",
       "      <td>14612</td>\n",
       "    </tr>\n",
       "    <tr>\n",
       "      <th>4</th>\n",
       "      <td>Argentina</td>\n",
       "      <td>12/31/20</td>\n",
       "      <td>Sputnik V</td>\n",
       "      <td>43396</td>\n",
       "      <td>39924</td>\n",
       "      <td>37321</td>\n",
       "      <td>39924</td>\n",
       "      <td>37321</td>\n",
       "      <td>38622</td>\n",
       "      <td>36887</td>\n",
       "      <td>38622</td>\n",
       "      <td>36887</td>\n",
       "      <td>38622</td>\n",
       "      <td>36887</td>\n",
       "      <td>23868</td>\n",
       "      <td>15623</td>\n",
       "    </tr>\n",
       "  </tbody>\n",
       "</table>\n",
       "</div>"
      ],
      "text/plain": [
       "     Country      Date Vaccine_Manufacturer  Total_Vaccinations  \\\n",
       "0  Argentina  12/29/20   Oxford/AstraZeneca                   1   \n",
       "1  Argentina  12/29/20    Sinopharm/Beijing                   1   \n",
       "2  Argentina  12/29/20            Sputnik V               20488   \n",
       "3  Argentina  12/30/20            Sputnik V               40590   \n",
       "4  Argentina  12/31/20            Sputnik V               43396   \n",
       "\n",
       "   Severe Disease Ancestral  Infection Ancestral  Severe Disease Alpha  \\\n",
       "0                         1                    1                     1   \n",
       "1                         1                    1                     1   \n",
       "2                     18849                17620                 18849   \n",
       "3                     37343                34907                 37343   \n",
       "4                     39924                37321                 39924   \n",
       "\n",
       "   Infection Alpha  Severe Disease Beta  Infection Beta  Severe Disease Gamma  \\\n",
       "0                1                    1               1                     1   \n",
       "1                1                    1               1                     1   \n",
       "2            17620                18234           17415                 18234   \n",
       "3            34907                36125           34502                 36125   \n",
       "4            37321                38622           36887                 38622   \n",
       "\n",
       "   Infection Gamma  Severe Disease Delta  Infection Delta  \\\n",
       "0                1                     1                1   \n",
       "1                1                     1                1   \n",
       "2            17415                 18234            17415   \n",
       "3            34502                 36125            34502   \n",
       "4            36887                 38622            36887   \n",
       "\n",
       "   Severe Disease Omicron  Infection Omicron  \n",
       "0                       1                  0  \n",
       "1                       1                  0  \n",
       "2                   11268               7376  \n",
       "3                   22325              14612  \n",
       "4                   23868              15623  "
      ]
     },
     "execution_count": 3,
     "metadata": {},
     "output_type": "execute_result"
    }
   ],
   "source": [
    "#review top 5 rows \n",
    "df.head()"
   ]
  },
  {
   "cell_type": "code",
   "execution_count": 4,
   "id": "3e66317b",
   "metadata": {},
   "outputs": [],
   "source": [
    "#change Date col to datetime\n",
    "df['Date'] = pd.to_datetime(df['Date'])"
   ]
  },
  {
   "cell_type": "code",
   "execution_count": 5,
   "id": "28134cdc",
   "metadata": {},
   "outputs": [
    {
     "name": "stdout",
     "output_type": "stream",
     "text": [
      "<class 'pandas.core.frame.DataFrame'>\n",
      "RangeIndex: 48150 entries, 0 to 48149\n",
      "Data columns (total 16 columns):\n",
      " #   Column                    Non-Null Count  Dtype         \n",
      "---  ------                    --------------  -----         \n",
      " 0   Country                   48150 non-null  object        \n",
      " 1   Date                      48150 non-null  datetime64[ns]\n",
      " 2   Vaccine_Manufacturer      48150 non-null  object        \n",
      " 3   Total_Vaccinations        48150 non-null  int64         \n",
      " 4   Severe Disease Ancestral  48150 non-null  int64         \n",
      " 5   Infection Ancestral       48150 non-null  int64         \n",
      " 6   Severe Disease Alpha      48150 non-null  int64         \n",
      " 7   Infection Alpha           48150 non-null  int64         \n",
      " 8   Severe Disease Beta       48150 non-null  int64         \n",
      " 9   Infection Beta            48150 non-null  int64         \n",
      " 10  Severe Disease Gamma      48150 non-null  int64         \n",
      " 11  Infection Gamma           48150 non-null  int64         \n",
      " 12  Severe Disease Delta      48150 non-null  int64         \n",
      " 13  Infection Delta           48150 non-null  int64         \n",
      " 14  Severe Disease Omicron    48150 non-null  int64         \n",
      " 15  Infection Omicron         48150 non-null  int64         \n",
      "dtypes: datetime64[ns](1), int64(13), object(2)\n",
      "memory usage: 5.9+ MB\n"
     ]
    }
   ],
   "source": [
    "#review dataframe info (data types, nulls, etc)\n",
    "df.info()"
   ]
  },
  {
   "cell_type": "code",
   "execution_count": 6,
   "id": "6e8367f5",
   "metadata": {
    "scrolled": true
   },
   "outputs": [
    {
     "data": {
      "text/plain": [
       "['Argentina',\n",
       " 'Austria',\n",
       " 'Belgium',\n",
       " 'Bulgaria',\n",
       " 'Canada',\n",
       " 'Chile',\n",
       " 'Croatia',\n",
       " 'Cyprus',\n",
       " 'Czechia',\n",
       " 'Denmark',\n",
       " 'Ecuador',\n",
       " 'Estonia',\n",
       " 'Finland',\n",
       " 'France',\n",
       " 'Germany',\n",
       " 'Hong Kong',\n",
       " 'Hungary',\n",
       " 'Iceland',\n",
       " 'Ireland',\n",
       " 'Italy',\n",
       " 'Japan',\n",
       " 'Latvia',\n",
       " 'Liechtenstein',\n",
       " 'Lithuania',\n",
       " 'Luxembourg',\n",
       " 'Malta',\n",
       " 'Nepal',\n",
       " 'Netherlands',\n",
       " 'Norway',\n",
       " 'Peru',\n",
       " 'Poland',\n",
       " 'Portugal',\n",
       " 'Romania',\n",
       " 'Slovakia',\n",
       " 'Slovenia',\n",
       " 'South Africa',\n",
       " 'South Korea',\n",
       " 'Spain',\n",
       " 'Sweden',\n",
       " 'Switzerland',\n",
       " 'Ukraine',\n",
       " 'United States',\n",
       " 'Uruguay',\n",
       " 'European Union']"
      ]
     },
     "execution_count": 6,
     "metadata": {},
     "output_type": "execute_result"
    }
   ],
   "source": [
    "#list unique values for countries\n",
    "list(df['Country'].unique())"
   ]
  },
  {
   "cell_type": "code",
   "execution_count": 7,
   "id": "4ceed8fc",
   "metadata": {},
   "outputs": [],
   "source": [
    "#drop European Union rows, since they are unneeded for this analysis\n",
    "df.drop(df.loc[df['Country'] == 'European Union'].index, inplace=True, axis=0)"
   ]
  },
  {
   "cell_type": "code",
   "execution_count": 8,
   "id": "e4c85561",
   "metadata": {
    "scrolled": true
   },
   "outputs": [
    {
     "data": {
      "text/plain": [
       "Country\n",
       "Argentina        6\n",
       "Austria          6\n",
       "Belgium          5\n",
       "Bulgaria         4\n",
       "Canada           6\n",
       "Chile            5\n",
       "Croatia          5\n",
       "Cyprus           5\n",
       "Czechia          8\n",
       "Denmark          4\n",
       "Ecuador          4\n",
       "Estonia          5\n",
       "Finland          5\n",
       "France           5\n",
       "Germany          6\n",
       "Hong Kong        2\n",
       "Hungary          6\n",
       "Iceland          4\n",
       "Ireland          5\n",
       "Italy            5\n",
       "Japan            4\n",
       "Latvia           7\n",
       "Liechtenstein    4\n",
       "Lithuania        4\n",
       "Luxembourg       5\n",
       "Malta            4\n",
       "Nepal            5\n",
       "Netherlands      5\n",
       "Norway           4\n",
       "Peru             4\n",
       "Poland           5\n",
       "Portugal         8\n",
       "Romania          4\n",
       "Slovakia         6\n",
       "Slovenia         5\n",
       "South Africa     2\n",
       "South Korea      6\n",
       "Spain            4\n",
       "Sweden           4\n",
       "Switzerland      4\n",
       "Ukraine          5\n",
       "United States    3\n",
       "Uruguay          3\n",
       "Name: Vaccine_Manufacturer, dtype: int64"
      ]
     },
     "execution_count": 8,
     "metadata": {},
     "output_type": "execute_result"
    }
   ],
   "source": [
    "#find number of unique vaccines giving by vaccine manufacturer\n",
    "df.groupby('Country')['Vaccine_Manufacturer'].nunique()"
   ]
  },
  {
   "cell_type": "code",
   "execution_count": 9,
   "id": "f50217e7",
   "metadata": {},
   "outputs": [],
   "source": [
    "#function for finding country codes\n",
    "def countrycode(column):\n",
    "    CODE = []\n",
    "    for country in column:\n",
    "        try:\n",
    "            code=pycountry.countries.get(name=country).alpha_3\n",
    "            CODE.append(code)\n",
    "        except:\n",
    "            CODE.append('None')\n",
    "    return CODE"
   ]
  },
  {
   "cell_type": "code",
   "execution_count": 10,
   "id": "e9cac68c",
   "metadata": {},
   "outputs": [],
   "source": [
    "#create nominatim object to obtain lat long of country\n",
    "geolocator = Nominatim(user_agent = 'DSEI270_Proj1')\n",
    "\n",
    "#function to get lat and long from country name\n",
    "def latlong(column):\n",
    "    loclist = []\n",
    "    for country in column:\n",
    "        try:\n",
    "            loc = geolocator.geocode(country)\n",
    "            loclist.append([country, loc.latitude, loc.longitude])\n",
    "        except:\n",
    "            loclist.append(['None','None','None'])\n",
    "    return pd.DataFrame(loclist, columns=['code','lat','long'])"
   ]
  },
  {
   "cell_type": "code",
   "execution_count": 11,
   "id": "fe8f40f2",
   "metadata": {},
   "outputs": [],
   "source": [
    "#create code column of 3 letter code for each country; used to merge with geopandas dataset\n",
    "df['code'] = countrycode(df['Country'])"
   ]
  },
  {
   "cell_type": "code",
   "execution_count": 12,
   "id": "f8745233",
   "metadata": {},
   "outputs": [],
   "source": [
    "#import world dataset from geopandas, rename code column, and drop unneeded columns\n",
    "world = geopandas.read_file(geopandas.datasets.get_path('naturalearth_lowres'))\n",
    "world.columns = ['pop_est', 'continent', 'name', 'code', 'gdp_md_est', 'geometry']\n",
    "world = world[['continent','code','geometry']]"
   ]
  },
  {
   "cell_type": "code",
   "execution_count": 13,
   "id": "f72d3342",
   "metadata": {},
   "outputs": [],
   "source": [
    "#create dataframe of lat and long info for each unique country\n",
    "latlongdf = latlong(df['code'].unique())"
   ]
  },
  {
   "cell_type": "code",
   "execution_count": 14,
   "id": "56337a53",
   "metadata": {},
   "outputs": [],
   "source": [
    "#merge geometry and lat/long dataframes to df\n",
    "df = pd.merge(df, world, on='code')\n",
    "df = pd.merge(df, latlongdf, on='code')"
   ]
  },
  {
   "cell_type": "code",
   "execution_count": 15,
   "id": "66367f98",
   "metadata": {},
   "outputs": [],
   "source": [
    "#create geopandas dataframe\n",
    "gdf = geopandas.GeoDataFrame(df, geometry=df['geometry'])"
   ]
  },
  {
   "cell_type": "code",
   "execution_count": null,
   "id": "3137a613",
   "metadata": {},
   "outputs": [],
   "source": []
  },
  {
   "cell_type": "code",
   "execution_count": null,
   "id": "102b9f82",
   "metadata": {},
   "outputs": [],
   "source": []
  }
 ],
 "metadata": {
  "kernelspec": {
   "display_name": "Python 3 (ipykernel)",
   "language": "python",
   "name": "python3"
  },
  "language_info": {
   "codemirror_mode": {
    "name": "ipython",
    "version": 3
   },
   "file_extension": ".py",
   "mimetype": "text/x-python",
   "name": "python",
   "nbconvert_exporter": "python",
   "pygments_lexer": "ipython3",
   "version": "3.7.15"
  }
 },
 "nbformat": 4,
 "nbformat_minor": 5
}
